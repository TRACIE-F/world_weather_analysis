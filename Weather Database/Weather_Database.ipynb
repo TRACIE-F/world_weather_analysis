{
 "cells": [
  {
   "cell_type": "code",
   "execution_count": 1,
   "id": "c583f622",
   "metadata": {},
   "outputs": [],
   "source": [
    "#Create a new set of 2,000 random latitudes and longitudes.\n",
    "\n",
    "#Get the nearest city using the citipy module.\n",
    "\n",
    "#Perform an API call with the OpenWeatherMap.\n",
    "\n",
    "#Retrieve the following information from the API call:\n",
    "\n",
    "#Latitude and longitude\n",
    "#Maximum temperature\n",
    "#Percent humidity\n",
    "#Percent cloudiness\n",
    "#Wind speed\n",
    "#Weather description (for example, clouds, fog, light rain, clear sky)\n",
    "#Add the data to a new DataFrame.\n",
    "\n",
    "#Before exporting your new DataFrame as a CSV file, take a moment to confirm that it looks similar to the image below:\n",
    "\n",
    "#Export the DataFrame as a CSV file, and save it as WeatherPy_Database.csv in the Weather_Database folder."
   ]
  },
  {
   "cell_type": "code",
   "execution_count": null,
   "id": "98236554",
   "metadata": {},
   "outputs": [],
   "source": [
    "# Use the tuple() function to display the latitude and longitude combinations.\n",
    "for coordinate in coordinates:\n",
    "    print(citipy.nearest_city(coordinate[0], coordinate[1]).city_name,\n",
    "          citipy.nearest_city(coordinate[0], coordinate[1]).country_code)"
   ]
  }
 ],
 "metadata": {
  "kernelspec": {
   "display_name": "Python 3 (ipykernel)",
   "language": "python",
   "name": "python3"
  },
  "language_info": {
   "codemirror_mode": {
    "name": "ipython",
    "version": 3
   },
   "file_extension": ".py",
   "mimetype": "text/x-python",
   "name": "python",
   "nbconvert_exporter": "python",
   "pygments_lexer": "ipython3",
   "version": "3.9.7"
  }
 },
 "nbformat": 4,
 "nbformat_minor": 5
}
